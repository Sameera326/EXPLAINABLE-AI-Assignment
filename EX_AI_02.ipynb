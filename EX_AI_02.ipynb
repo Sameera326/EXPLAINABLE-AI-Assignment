{
  "nbformat": 4,
  "nbformat_minor": 0,
  "metadata": {
    "colab": {
      "provenance": [],
      "authorship_tag": "ABX9TyOF4DaFu+CbDcPxlzGdiC9Q",
      "include_colab_link": true
    },
    "kernelspec": {
      "name": "python3",
      "display_name": "Python 3"
    },
    "language_info": {
      "name": "python"
    }
  },
  "cells": [
    {
      "cell_type": "markdown",
      "metadata": {
        "id": "view-in-github",
        "colab_type": "text"
      },
      "source": [
        "<a href=\"https://colab.research.google.com/github/Sameera326/EXPLAINABLE-AI-Assignment/blob/main/EX_AI_02.ipynb\" target=\"_parent\"><img src=\"https://colab.research.google.com/assets/colab-badge.svg\" alt=\"Open In Colab\"/></a>"
      ]
    },
    {
      "cell_type": "code",
      "source": [
        "# 1. Imports and Data Loading\n",
        "import pandas as pd\n",
        "from sklearn.model_selection import train_test_split\n",
        "from sklearn.ensemble import RandomForestClassifier\n",
        "from sklearn.preprocessing import StandardScaler, LabelEncoder\n",
        "from sklearn.metrics import accuracy_score, precision_score, recall_score, f1_score, roc_auc_score\n",
        "import shap\n",
        "import matplotlib.pyplot as plt\n",
        "\n",
        "# Load dataset\n",
        "df = pd.read_csv('credit_card_default.csv')\n",
        "\n",
        "# Data Cleaning\n",
        "df = df.drop_duplicates()\n",
        "df = df.dropna()\n",
        "\n",
        "# Categorical Encoding (if needed)\n",
        "# Example: Label encode categorical columns\n",
        "for col in df.select_dtypes(include=['object']).columns:\n",
        "    df[col] = LabelEncoder().fit_transform(df[col])\n",
        "\n",
        "# Feature & Target Selection\n",
        "X = df.drop('default.payment.next.month', axis=1)\n",
        "y = df['default.payment.next.month']\n",
        "\n",
        "# Normalization\n",
        "scaler = StandardScaler()\n",
        "X_scaled = scaler.fit_transform(X)\n",
        "\n",
        "# Train/Test Split\n",
        "X_train, X_test, y_train, y_test = train_test_split(X_scaled, y, test_size=0.2, random_state=42)\n",
        "\n",
        "# 2. Model Training\n",
        "clf = RandomForestClassifier(n_estimators=100, random_state=42)\n",
        "clf.fit(X_train, y_train)\n",
        "\n",
        "# Predictions\n",
        "y_pred = clf.predict(X_test)\n",
        "print(\"Accuracy:\", accuracy_score(y_test, y_pred))\n",
        "print(\"Precision:\", precision_score(y_test, y_pred))\n",
        "print(\"Recall:\", recall_score(y_test, y_pred))\n",
        "print(\"F1:\", f1_score(y_test, y_pred))\n",
        "print(\"ROC AUC:\", roc_auc_score(y_test, y_pred))\n",
        "\n",
        "# 3. SHAP Analysis\n",
        "explainer = shap.TreeExplainer(clf)\n",
        "shap_values = explainer.shap_values(X_test)\n",
        "\n",
        "# Summary Plot\n",
        "shap.summary_plot(shap_values[1], X_test, feature_names=X.columns)\n",
        "\n",
        "# Force Plot (first sample)\n",
        "shap.force_plot(explainer.expected_value[1], shap_values[1], X_test, feature_names=X.columns, matplotlib=True)\n",
        "\n",
        "# Waterfall Plot (first sample)\n",
        "shap.waterfall_plot(shap.Explanation(values=shap_values[1], base_values=explainer.expected_value[1], data=X_test, feature_names=X.columns))\n",
        "\n",
        "# 4. Feature Importance Comparison\n",
        "importances = clf.feature_importances_\n",
        "feature_importance_df = pd.DataFrame({'Feature': X.columns, 'RandomForestImportance': importances})\n",
        "shap_feature_importance = pd.DataFrame({'Feature': X.columns, 'SHAPValue': np.abs(np.mean(shap_values[1], axis=0))})\n",
        "merged_importance = feature_importance_df.merge(shap_feature_importance, on='Feature').sort_values('SHAPValue', ascending=False)\n",
        "print(\"Top 5 features by SHAP:\\n\", merged_importance.head(5))\n"
      ],
      "metadata": {
        "id": "ZIe_35VLGAzb"
      },
      "execution_count": null,
      "outputs": []
    }
  ]
}